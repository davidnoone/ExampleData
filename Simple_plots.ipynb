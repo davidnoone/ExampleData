{
  "nbformat": 4,
  "nbformat_minor": 0,
  "metadata": {
    "colab": {
      "provenance": [],
      "include_colab_link": true
    },
    "kernelspec": {
      "name": "python3",
      "display_name": "Python 3"
    }
  },
  "cells": [
    {
      "cell_type": "markdown",
      "metadata": {
        "id": "view-in-github",
        "colab_type": "text"
      },
      "source": [
        "<a href=\"https://colab.research.google.com/github/davidnoone/ExampleData/blob/main/Simple_plots.ipynb\" target=\"_parent\"><img src=\"https://colab.research.google.com/assets/colab-badge.svg\" alt=\"Open In Colab\"/></a>"
      ]
    },
    {
      "cell_type": "markdown",
      "metadata": {
        "id": "WkaQseeG-pQz"
      },
      "source": [
        "# NetCDF and plotting example.\n",
        "\n",
        "This example shows how to read data from a netcdf file, and how to make some simple plots. \n",
        "\n",
        "**Learning goals:**\n",
        " * Utilize notebook framework\n",
        " * Read data stored in netcdf format\n",
        " * Produce a contour map\n",
        "\n",
        "**Python modules**\n",
        "* [numpy](https://numpy.org/doc/stable/user/) for manipulating arrays of gridded data\n",
        "* [netCDF4](https://unidata.github.io/netcdf4-python/) module for reading NetCDF files\n",
        "* [Matplotlib](https://matplotlib.org/3.1.1/index.html) library for displaying graphics\n",
        "* (Bonus: [cartopy](https://scitools.org.uk/cartopy/docs/latest/) for managing fancy map projections)\n",
        "\n",
        "\n"
      ]
    },
    {
      "cell_type": "markdown",
      "metadata": {
        "id": "Dp9hmri63zKx"
      },
      "source": [
        "**Using this notebook**: Remember to save your own copy! Once this note book has loaded, save a copy to your google grive or similar location. Otherwise, you will lose any code work you do when you reload. \n",
        "\n",
        "**Notebooks**: Notice that `netCDF4` and `cartopy` is not installed by default on `colab` so must be installed for each session.\n",
        "Takes a few moments.\n"
      ]
    },
    {
      "cell_type": "code",
      "metadata": {
        "id": "LNmTXE3rB0ip"
      },
      "source": [
        "# One could preinstall these (code below tries to be more intellegent)\n",
        "#!pip install netCDF4\n",
        "#!pip install cartopy\n",
        "#!pip uninstall shapely -y\n",
        "#!pip install shapely --no-binary shapely"
      ],
      "execution_count": null,
      "outputs": []
    },
    {
      "cell_type": "code",
      "metadata": {
        "id": "K6oc1ZNe-lk5"
      },
      "source": [
        "#\n",
        "# Import the needed modules: Install those which are not present.\n",
        "#\n",
        "\n",
        "import numpy as np\n",
        "import matplotlib\n",
        "import matplotlib.pyplot as plt\n",
        "\n",
        "try:\n",
        "  import netCDF4 as nc\n",
        "except:\n",
        "  !pip install netCDF4\n",
        "  import netCDF4 as nc\n",
        "\n",
        "try:\n",
        "  import cartopy.crs as ccrs\n",
        "except:\n",
        "  !pip install cartopy\n",
        "  !pip uninstall shapely -y\n",
        "  !pip install shapely --no-binary shapely\n",
        "  import cartopy.crs as ccrs\n",
        "\n",
        "\n",
        "print(\"All modules needed have been imported. Ready to continue!\")"
      ],
      "execution_count": null,
      "outputs": []
    },
    {
      "cell_type": "markdown",
      "metadata": {
        "id": "cmwS_54hAXnP"
      },
      "source": [
        "## Obtaining the data\n",
        "\n",
        "NetCDF is a standard data format which is used widely for atmospehric and oceanic data sets. The data format is structured, and remarkably convienient once youget te hang of it. \n",
        "\n",
        "Data sets have dimensions (number of latitude, number of longitudes) and variables (temperature). Some variables describe the coordinates (i.e., longitude and latitude values).\n"
      ]
    },
    {
      "cell_type": "code",
      "metadata": {
        "id": "Gr2EJuWtMfqZ"
      },
      "source": [
        "# Download a data file from github, if it doesn't exist\n",
        "!test ! -f ERA5_pr_2021-01-01.nc && wget 'https://raw.github.com/davidnoone/GEOPHYS_NOTEBOOKS/main/data/ERA5_pr_2021-01-01.nc'"
      ],
      "execution_count": null,
      "outputs": []
    },
    {
      "cell_type": "code",
      "metadata": {
        "id": "voKwe5JBAXDe"
      },
      "source": [
        "# Code example to read data from a netcdf file.\n",
        "# Some knowledge of the file structure and vaiables names in the file\n",
        "# are needed. (They are ways to get this from within python)\n",
        "gravity = 9.81\n",
        "\n",
        "# Set a filename: This is the file we just downloaded. \n",
        "filename = \"ERA5_pr_2021-01-01.nc\"\n",
        "\n",
        "# Open the netcdf file\n",
        "ds = nc.Dataset(filename,'r')\n",
        "\n",
        "# Read the coodinate data\n",
        "lons = ds.variables[\"longitude\"][:]\n",
        "lats = ds.variables[\"latitude\"][:]\n",
        "levs = ds.variables[\"level\"][:]\n",
        "\n",
        "nlon = len(lons)\n",
        "nlat = len(lats)\n",
        "\n",
        "# Read the temperature and wind data\n",
        "k = 6         # choose which pressure level to read\n",
        "print('Reading data at pressure:',levs[k])\n",
        "temp = ds.variables[\"t\"][0,k,:,:]\n",
        "uwnd = ds.variables[\"u\"][0,k,:,:]\n",
        "vwnd = ds.variables[\"v\"][0,k,:,:]\n",
        "zgeo = ds.variables[\"z\"][0,k,:,:]/gravity\n",
        "\n",
        "# It is good manners to close the file\n",
        "ds.close()\n",
        "\n",
        "print(\"Finished reading netcdf file.\")\n"
      ],
      "execution_count": null,
      "outputs": []
    },
    {
      "cell_type": "markdown",
      "metadata": {
        "id": "OrFpcqrwDvmj"
      },
      "source": [
        "# Check the data\n",
        "\n",
        "Convince yourself that the latitudes and longitudes were read in correctly. Print our their values to the screeed.\n",
        "(You could do this with temperature as well, but it wil be many many values).\n"
      ]
    },
    {
      "cell_type": "code",
      "metadata": {
        "id": "R5LTeNZ1EAAB"
      },
      "source": [
        "# Print the dimensions to the screen\n",
        "print(\"Number of longitudes: nlon=\", nlon)\n",
        "print(\"Number of latitudes : nlat=\", nlat)\n",
        "\n",
        "# Print the latitude and longitude \n",
        "print('LONGITUES:',lons)\n",
        "print('LATITUDES:',lats)\n",
        "\n",
        "print('You selected level k=',k,' which is',levs[k])\n",
        "\n"
      ],
      "execution_count": null,
      "outputs": []
    },
    {
      "cell_type": "markdown",
      "metadata": {
        "id": "8MtsO4t6yS4N"
      },
      "source": [
        "##Construct a map of temperature\n",
        "\n",
        "To convince yourself that the data is good, and get a view of the atmospheric conditions, construct a contour map of the data showing the temperature. We're using matplotlib to do the plotting. \n",
        "\n",
        "\n",
        "For geophysical data, we also need to set up a map projection. The easiest map projection is cylindrical equidistant: treating latitude and longitude as cartesian coordinates. This works find for many instances, but does not work well near the poles. \n",
        "\n",
        "As a bonus, you might try to overlay the wind data as vectors do visualize the airflow. Do do this you can use the quiver function.\n",
        "\n",
        "Also see documentation for matplotlib functions:\n",
        "* [contour](https://matplotlib.org/stable/api/_as_gen/matplotlib.pyplot.contour.html) \n",
        "* [contourf](https://matplotlib.org/stable/api/_as_gen/matplotlib.pyplot.contourf.html)\n",
        "*[quiver](https://matplotlib.org/stable/api/_as_gen/matplotlib.pyplot.quiver.html)\n",
        "* [colorbar](https://matplotlib.org/stable/api/_as_gen/matplotlib.pyplot.colorbar.html)\n",
        "\n",
        "A [good example](https://scitools.org.uk/cartopy/docs/v0.13/matplotlib/advanced_plotting.html) is on the cartopy documentation. You can limit the view with the \"extent\" keyword to give latitude and longitude bounds. Try limiting the map to just a local reagion.\n"
      ]
    },
    {
      "cell_type": "code",
      "metadata": {
        "id": "lZ86t6THEPwO"
      },
      "source": [
        "# Simpliest possible case: Filled contour plot.\n",
        "\n",
        "p = plt.contourf(lons, lats, temp)\n"
      ],
      "execution_count": null,
      "outputs": []
    },
    {
      "cell_type": "code",
      "source": [
        "## A more aestetically pleasing case: \n",
        "##   * Makes it bigger\n",
        "##   * Uses map projection to give continental outlines/coastlines\n",
        "##   * Adds a color bar\n",
        "##   * Overlays vectors\n",
        "\n",
        "## Or here, with a map projection\n",
        "fig = plt.figure(figsize=[12,8])   # make it bigger\n",
        "\n",
        "ax = plt.axes(projection=ccrs.PlateCarree())\n",
        "ax.set_title(\"Temperature and wind vectors\")\n",
        "\n",
        "# Shaded contours for temperature\n",
        "p = plt.contourf(lons, lats, temp,60, transform=ccrs.PlateCarree())\n",
        "## Add a color bar\n",
        "plt.colorbar(p)\n",
        "\n",
        "\n",
        "## Try this to get vectors showing the streamlines\n",
        "#v = ax.quiver(lons, lats, uwnd, vwnd, transform=ccrs.PlateCarree())  # easiest version\n",
        "#v = ax.streamplot(lons, lats, uwnd, vwnd, transform=ccrs.PlateCarree()) # try this instread of quiver\n",
        "\n",
        "step = 6    # plots every \"stepth\" vector\n",
        "v = ax.quiver(lons[::step], lats[::step], uwnd[::step,::step], vwnd[::step,::step], transform=ccrs.PlateCarree())\n",
        "\n",
        "\n",
        "# Add coastlines\n",
        "ax.coastlines()\n",
        "\n"
      ],
      "metadata": {
        "id": "h4_PgoxT8r22"
      },
      "execution_count": null,
      "outputs": []
    },
    {
      "cell_type": "code",
      "source": [
        "# Lets redo the above with a few changes:\n",
        "#\n",
        "#  Change the colormap: cmap=\"name_of_color_map\"\n",
        "#  Limit the extent of the plot: extent = [lat1,lat2,lon1,lon2]\n",
        "#  Overlay multiple fields.\n",
        "#\n",
        "#  Notice also the ERA5 data spans from -180 to +180 longitude. NZ is on the date line\n",
        "#  So we need to \"wrap\" the data around.\n",
        "#\n",
        "\n",
        "extent = [150, 200, -65, -25]\n",
        "proj_grid = ccrs.PlateCarree(180)      # Map projection with 180 is the central longitude\n",
        "proj_data = ccrs.PlateCarree(0)      # Data has \"longitude\", relative to 0 E.\n",
        "\n",
        "fig = plt.figure(figsize=[12,8])   # make it bigger\n",
        "\n",
        "ax = plt.axes(projection=proj_grid)\n",
        "ax.set_extent(extent,proj_data)\n",
        "p = plt.contourf(lons, lats, temp,60, transform=proj_data,cmap='jet')\n",
        "ax.coastlines()\n",
        "\n",
        "plt.colorbar(p)\n",
        "\n",
        "fig.show()\n",
        "\n",
        "\n"
      ],
      "metadata": {
        "id": "hFwimoA7gkoJ"
      },
      "execution_count": null,
      "outputs": []
    },
    {
      "cell_type": "code",
      "source": [
        "\n",
        "# Redo the above, but add a \"cycling point\" to the to avoid the gap\n",
        "import cartopy.util as cutil\n",
        "ctemp, clon, clat = cutil.add_cyclic(temp, lons, lats)\n",
        "czgeo, clon, clat = cutil.add_cyclic(zgeo, lons, lats)\n",
        "\n",
        "#extent = [0, 360, -90, +90]         # Global\n",
        "#extent = [90, 270, -80, +50]         # Pacific\n",
        "extent = [150, 200, -65, -25]       # NZ\n",
        "proj_grid = ccrs.PlateCarree(180)      # Map projection with 180 is the central longitude\n",
        "proj_data = ccrs.PlateCarree(0)        # Data has \"longitude\", relative to 0 E.\n",
        "\n",
        "fig = plt.figure(figsize=(12,8))        # make it bigger\n",
        "ax = plt.axes(projection=proj_grid)\n",
        "\n",
        "ax.set_title('['+filename+'] Temperature [K] and geopotential height [m]   LEVEL ='+str(levs[k])+' hPa')\n",
        "ax.set_extent(extent,proj_data)\n",
        "\n",
        "# Temperature as color fill\n",
        "pt = plt.contourf(clon, clat, ctemp,60, transform=proj_data,cmap='jet')\n",
        "\n",
        "# geopotential height as black confours\n",
        "pz = plt.contour (clon, clat, czgeo,32, transform=proj_data,colors='black')\n",
        "\n",
        "# Wind vectors on top (note, wrapping not needed)\n",
        "step = 2\n",
        "scale = 10                            # make this bigger for smaller arrows\n",
        "pv = ax.quiver(lons[::step], lats[::step], uwnd[::step,::step], vwnd[::step,::step],\\\n",
        "              scale_units=\"xy\",scale=scale,transform=proj_data,color='blue')\n",
        "\n",
        "ax.clabel(pz)\n",
        "plt.colorbar(pt)\n",
        "ax.coastlines()\n",
        "\n",
        "fig.show()\n",
        "\n"
      ],
      "metadata": {
        "id": "yAxvIxk1j2aQ"
      },
      "execution_count": null,
      "outputs": []
    },
    {
      "cell_type": "markdown",
      "metadata": {
        "id": "HuRfDb_65Z9k"
      },
      "source": [
        "##Outcome\n",
        "\n",
        "Being able to obtain gridded datasets, visualize fields and manipulate the data is a fundemental activity in geophsyical fluids analysis. Having completed this notebook task, you've developed some essential building blocks on which more complex analysis can rely. \n",
        "\n",
        "All the of the modules used here have greater power than what we've looked at more details can be found at:\n",
        "\n",
        "* [Numpy manual](https://numpy.org/doc/stable/user/)\n",
        "* [NetCDF4 documentation](https://unidata.github.io/netcdf4-python/ )\n",
        "* [Matplotlib](https://matplotlib.org/3.1.1/index.html)\n",
        "* [Cartopy manual](https://scitools.org.uk/cartopy/docs/latest/)\n",
        "\n",
        "There are many examples on these pages, which is an excellent resource for more complicated coding.\n",
        "\n",
        "\n"
      ]
    },
    {
      "cell_type": "code",
      "metadata": {
        "id": "KOx26sxlg2i3"
      },
      "source": [
        "# Clean up data file\n",
        "#!rm ERA5_pr_2021-01-01.nc\n",
        "print('Finished')"
      ],
      "execution_count": null,
      "outputs": []
    }
  ]
}