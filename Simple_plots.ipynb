{
  "nbformat": 4,
  "nbformat_minor": 0,
  "metadata": {
    "colab": {
      "provenance": [],
      "include_colab_link": true
    },
    "kernelspec": {
      "name": "python3",
      "display_name": "Python 3"
    }
  },
  "cells": [
    {
      "cell_type": "markdown",
      "metadata": {
        "id": "view-in-github",
        "colab_type": "text"
      },
      "source": [
        "<a href=\"https://colab.research.google.com/github/davidnoone/ExampleData/blob/main/Simple_plots.ipynb\" target=\"_parent\"><img src=\"https://colab.research.google.com/assets/colab-badge.svg\" alt=\"Open In Colab\"/></a>"
      ]
    },
    {
      "cell_type": "markdown",
      "metadata": {
        "id": "WkaQseeG-pQz"
      },
      "source": [
        "# NetCDF and plotting example.\n",
        "\n",
        "This example shows how to read data from a netcdf file, and how to make some simple plots. \n",
        "\n",
        "**Learning goals:**\n",
        " * Utilize notebook framework\n",
        " * Read data stored in netcdf format\n",
        " * Produce a contour map\n",
        "\n",
        "**Python modules**\n",
        "* [numpy](https://numpy.org/doc/stable/user/) for manipulating arrays of gridded data\n",
        "* [netCDF4](https://unidata.github.io/netcdf4-python/) module for reading NetCDF files\n",
        "* [Matplotlib](https://matplotlib.org/3.1.1/index.html) library for displaying graphics\n",
        "* (Bonus: [cartopy](https://scitools.org.uk/cartopy/docs/latest/) for managing fancy map projections)\n",
        "\n",
        "\n"
      ]
    },
    {
      "cell_type": "markdown",
      "metadata": {
        "id": "Dp9hmri63zKx"
      },
      "source": [
        "**Using this notebook**: Remember to save your own copy! Once this note book has loaded, save a copy to your google grive or similar location. Otherwise, you will lose any code work you do when you reload. \n",
        "\n",
        "**Notebooks**: Notice that `netCDF4` and `cartopy` is not installed by default on `colab` so must be installed for each session.\n",
        "Takes a few moments.\n"
      ]
    },
    {
      "cell_type": "code",
      "metadata": {
        "id": "LNmTXE3rB0ip",
        "colab": {
          "base_uri": "https://localhost:8080/"
        },
        "outputId": "b4697c9f-ecef-4ea2-fc74-01deaae4c16f"
      },
      "source": [
        "!pip install netCDF4\n",
        "!pip install cartopy\n",
        "!pip uninstall shapely -y\n",
        "!pip install shapely --no-binary shapely"
      ],
      "execution_count": null,
      "outputs": [
        {
          "output_type": "stream",
          "name": "stdout",
          "text": [
            "Looking in indexes: https://pypi.org/simple, https://us-python.pkg.dev/colab-wheels/public/simple/\n",
            "Requirement already satisfied: netCDF4 in /usr/local/lib/python3.9/dist-packages (1.6.3)\n",
            "Requirement already satisfied: numpy in /usr/local/lib/python3.9/dist-packages (from netCDF4) (1.22.4)\n",
            "Requirement already satisfied: cftime in /usr/local/lib/python3.9/dist-packages (from netCDF4) (1.6.2)\n",
            "Looking in indexes: https://pypi.org/simple, https://us-python.pkg.dev/colab-wheels/public/simple/\n",
            "Collecting cartopy\n",
            "  Downloading Cartopy-0.21.1.tar.gz (10.9 MB)\n",
            "\u001b[2K     \u001b[90m━━━━━━━━━━━━━━━━━━━━━━━━━━━━━━━━━━━━━━━━\u001b[0m \u001b[32m10.9/10.9 MB\u001b[0m \u001b[31m10.9 MB/s\u001b[0m eta \u001b[36m0:00:00\u001b[0m\n",
            "\u001b[?25h  Installing build dependencies ... \u001b[?25l\u001b[?25hdone\n",
            "  Getting requirements to build wheel ... \u001b[?25l\u001b[?25hdone\n",
            "  Preparing metadata (pyproject.toml) ... \u001b[?25l\u001b[?25hdone\n",
            "Requirement already satisfied: shapely>=1.6.4 in /usr/local/lib/python3.9/dist-packages (from cartopy) (2.0.1)\n",
            "Collecting pyshp>=2.1\n",
            "  Downloading pyshp-2.3.1-py2.py3-none-any.whl (46 kB)\n",
            "\u001b[2K     \u001b[90m━━━━━━━━━━━━━━━━━━━━━━━━━━━━━━━━━━━━━━━━\u001b[0m \u001b[32m46.5/46.5 KB\u001b[0m \u001b[31m6.0 MB/s\u001b[0m eta \u001b[36m0:00:00\u001b[0m\n",
            "\u001b[?25hRequirement already satisfied: numpy>=1.18 in /usr/local/lib/python3.9/dist-packages (from cartopy) (1.22.4)\n",
            "Collecting pyproj>=3.0.0\n",
            "  Downloading pyproj-3.4.1-cp39-cp39-manylinux_2_17_x86_64.manylinux2014_x86_64.whl (7.7 MB)\n",
            "\u001b[2K     \u001b[90m━━━━━━━━━━━━━━━━━━━━━━━━━━━━━━━━━━━━━━━━\u001b[0m \u001b[32m7.7/7.7 MB\u001b[0m \u001b[31m47.3 MB/s\u001b[0m eta \u001b[36m0:00:00\u001b[0m\n",
            "\u001b[?25hRequirement already satisfied: matplotlib>=3.1 in /usr/local/lib/python3.9/dist-packages (from cartopy) (3.5.3)\n",
            "Requirement already satisfied: cycler>=0.10 in /usr/local/lib/python3.9/dist-packages (from matplotlib>=3.1->cartopy) (0.11.0)\n",
            "Requirement already satisfied: kiwisolver>=1.0.1 in /usr/local/lib/python3.9/dist-packages (from matplotlib>=3.1->cartopy) (1.4.4)\n",
            "Requirement already satisfied: packaging>=20.0 in /usr/local/lib/python3.9/dist-packages (from matplotlib>=3.1->cartopy) (23.0)\n",
            "Requirement already satisfied: pyparsing>=2.2.1 in /usr/local/lib/python3.9/dist-packages (from matplotlib>=3.1->cartopy) (3.0.9)\n",
            "Requirement already satisfied: pillow>=6.2.0 in /usr/local/lib/python3.9/dist-packages (from matplotlib>=3.1->cartopy) (8.4.0)\n",
            "Requirement already satisfied: fonttools>=4.22.0 in /usr/local/lib/python3.9/dist-packages (from matplotlib>=3.1->cartopy) (4.39.0)\n",
            "Requirement already satisfied: python-dateutil>=2.7 in /usr/local/lib/python3.9/dist-packages (from matplotlib>=3.1->cartopy) (2.8.2)\n",
            "Requirement already satisfied: certifi in /usr/local/lib/python3.9/dist-packages (from pyproj>=3.0.0->cartopy) (2022.12.7)\n",
            "Requirement already satisfied: six>=1.5 in /usr/local/lib/python3.9/dist-packages (from python-dateutil>=2.7->matplotlib>=3.1->cartopy) (1.15.0)\n",
            "Building wheels for collected packages: cartopy\n",
            "  Building wheel for cartopy (pyproject.toml) ... \u001b[?25l\u001b[?25hdone\n",
            "  Created wheel for cartopy: filename=Cartopy-0.21.1-cp39-cp39-linux_x86_64.whl size=11113676 sha256=69a1fbfe8687eafe3b0ed5d86be08e332b693e8e607926c371b17152217ac4f3\n",
            "  Stored in directory: /root/.cache/pip/wheels/74/b9/f5/2c94acd7cd21480e6cf63169144d7aac3e8d9cf638225ed578\n",
            "Successfully built cartopy\n",
            "Installing collected packages: pyshp, pyproj, cartopy\n",
            "Successfully installed cartopy-0.21.1 pyproj-3.4.1 pyshp-2.3.1\n",
            "Found existing installation: shapely 2.0.1\n",
            "Uninstalling shapely-2.0.1:\n",
            "  Successfully uninstalled shapely-2.0.1\n",
            "Looking in indexes: https://pypi.org/simple, https://us-python.pkg.dev/colab-wheels/public/simple/\n",
            "Collecting shapely\n",
            "  Downloading shapely-2.0.1.tar.gz (275 kB)\n",
            "\u001b[2K     \u001b[90m━━━━━━━━━━━━━━━━━━━━━━━━━━━━━━━━━━━━━━━\u001b[0m \u001b[32m275.5/275.5 KB\u001b[0m \u001b[31m5.7 MB/s\u001b[0m eta \u001b[36m0:00:00\u001b[0m\n",
            "\u001b[?25h  Installing build dependencies ... \u001b[?25l\u001b[?25hdone\n",
            "  Getting requirements to build wheel ... \u001b[?25l\u001b[?25hdone\n",
            "  Installing backend dependencies ... \u001b[?25l\u001b[?25hdone\n",
            "  Preparing metadata (pyproject.toml) ... \u001b[?25l\u001b[?25hdone\n",
            "\u001b[33m  WARNING: Generating metadata for package shapely produced metadata for project name unknown. Fix your #egg=shapely fragments.\u001b[0m\u001b[33m\n",
            "\u001b[0mDiscarding \u001b[4;34mhttps://files.pythonhosted.org/packages/10/a7/de139da3ce303101c357a9ba801328cba85cf6ace157da31a4007bca85e4/shapely-2.0.1.tar.gz#sha256=66a6b1a3e72ece97fc85536a281476f9b7794de2e646ca8a4517e2e3c1446893 (from https://pypi.org/simple/shapely/) (requires-python:>=3.7)\u001b[0m: \u001b[33mRequested unknown from https://files.pythonhosted.org/packages/10/a7/de139da3ce303101c357a9ba801328cba85cf6ace157da31a4007bca85e4/shapely-2.0.1.tar.gz#sha256=66a6b1a3e72ece97fc85536a281476f9b7794de2e646ca8a4517e2e3c1446893 has inconsistent name: filename has 'shapely', but metadata has 'unknown'\u001b[0m\n",
            "  Downloading shapely-2.0.0.tar.gz (274 kB)\n",
            "\u001b[2K     \u001b[90m━━━━━━━━━━━━━━━━━━━━━━━━━━━━━━━━━━━━━━\u001b[0m \u001b[32m274.5/274.5 KB\u001b[0m \u001b[31m26.9 MB/s\u001b[0m eta \u001b[36m0:00:00\u001b[0m\n",
            "\u001b[?25h  Installing build dependencies ... \u001b[?25l\u001b[?25hdone\n",
            "  Getting requirements to build wheel ... \u001b[?25l\u001b[?25hdone\n",
            "  Installing backend dependencies ... \u001b[?25l\u001b[?25hdone\n",
            "  Preparing metadata (pyproject.toml) ... \u001b[?25l\u001b[?25hdone\n",
            "\u001b[33m  WARNING: Generating metadata for package shapely produced metadata for project name unknown. Fix your #egg=shapely fragments.\u001b[0m\u001b[33m\n",
            "\u001b[0mDiscarding \u001b[4;34mhttps://files.pythonhosted.org/packages/61/76/6e635cc4ba33e8c170ef5934dad5c269dc5cb9607e878efb2aba12f78361/shapely-2.0.0.tar.gz#sha256=11f1b1231a6c04213fb1226c6968d1b1b3b369ec42d1e9655066af87631860ea (from https://pypi.org/simple/shapely/) (requires-python:>=3.7)\u001b[0m: \u001b[33mRequested unknown from https://files.pythonhosted.org/packages/61/76/6e635cc4ba33e8c170ef5934dad5c269dc5cb9607e878efb2aba12f78361/shapely-2.0.0.tar.gz#sha256=11f1b1231a6c04213fb1226c6968d1b1b3b369ec42d1e9655066af87631860ea has inconsistent name: filename has 'shapely', but metadata has 'unknown'\u001b[0m\n",
            "  Downloading Shapely-1.8.5.post1.tar.gz (200 kB)\n",
            "\u001b[2K     \u001b[90m━━━━━━━━━━━━━━━━━━━━━━━━━━━━━━━━━━━━━━\u001b[0m \u001b[32m200.9/200.9 KB\u001b[0m \u001b[31m20.4 MB/s\u001b[0m eta \u001b[36m0:00:00\u001b[0m\n",
            "\u001b[?25h  Installing build dependencies ... \u001b[?25l\u001b[?25hdone\n",
            "\u001b[33m  WARNING: Missing build requirements in pyproject.toml for shapely from https://files.pythonhosted.org/packages/92/2e/a8bbe3c6b414c3c61c4b639ab16d5b1f9c4c4095817d417b503413e613c0/Shapely-1.8.5.post1.tar.gz#sha256=ef3be705c3eac282a28058e6c6e5503419b250f482320df2172abcbea642c831.\u001b[0m\u001b[33m\n",
            "\u001b[0m\u001b[33m  WARNING: The project does not specify a build backend, and pip cannot fall back to setuptools without 'wheel'.\u001b[0m\u001b[33m\n",
            "\u001b[0m  Getting requirements to build wheel ... \u001b[?25l\u001b[?25hdone\n",
            "  Installing backend dependencies ... \u001b[?25l\u001b[?25hdone\n",
            "  Preparing metadata (pyproject.toml) ... \u001b[?25l\u001b[?25hdone\n",
            "Building wheels for collected packages: shapely\n"
          ]
        }
      ]
    },
    {
      "cell_type": "code",
      "metadata": {
        "id": "K6oc1ZNe-lk5"
      },
      "source": [
        "#\n",
        "# Import the needed modules \n",
        "#\n",
        "\n",
        "import numpy as np\n",
        "import matplotlib\n",
        "import matplotlib.pyplot as plt\n",
        "import netCDF4 as nc\n",
        "import cartopy.crs as ccrs\n",
        "\n",
        "\n",
        "print(\"All modules needed have been imported. Ready to continue!\")"
      ],
      "execution_count": null,
      "outputs": []
    },
    {
      "cell_type": "markdown",
      "metadata": {
        "id": "cmwS_54hAXnP"
      },
      "source": [
        "## Obtaining the data\n",
        "\n",
        "NetCDF is a standard data format which is used widely for atmospehric and oceanic data sets. The data format is structured, and remarkably convienient once youget te hang of it. \n",
        "\n",
        "Data sets have dimensions (number of latitude, number of longitudes) and variables (temperature). Some variables describe the coordinates (i.e., longitude and latitude values).\n"
      ]
    },
    {
      "cell_type": "code",
      "metadata": {
        "id": "Gr2EJuWtMfqZ"
      },
      "source": [
        "# Download a data file from github, if it doesn't exist\n",
        "!test ! -f ERA5_pr_2021-01-01.nc && wget 'https://raw.github.com/davidnoone/GEOPHYS_NOTEBOOKS/main/data/ERA5_pr_2021-01-01.nc'"
      ],
      "execution_count": null,
      "outputs": []
    },
    {
      "cell_type": "code",
      "metadata": {
        "id": "voKwe5JBAXDe"
      },
      "source": [
        "# Code example to read data from a netcdf file.\n",
        "# Some knowledge of the file structure and vaiables names in the file\n",
        "# are needed. (They are ways to get this from within python)\n",
        "\n",
        "# Set a filename: This is the file we just downloaded. \n",
        "filename = \"ERA5_pr_2021-01-01.nc\"\n",
        "\n",
        "# Open the netcdf file\n",
        "ds = nc.Dataset(filename,'r')\n",
        "\n",
        "# Read the coodinate data\n",
        "lons = ds.variables[\"longitude\"][:]\n",
        "lats = ds.variables[\"latitude\"][:]\n",
        "levs = ds.variables[\"level\"][:]\n",
        "\n",
        "nlon = len(lons)\n",
        "nlat = len(lats)\n",
        "\n",
        "# Read the temperature and wind data\n",
        "k = 6         # choose which pressure level to read\n",
        "print('Reading data at pressure:',levs[k])\n",
        "temp = ds.variables[\"t\"][0,k,:,:]\n",
        "uwnd = ds.variables[\"u\"][0,k,:,:]\n",
        "vwnd = ds.variables[\"v\"][0,k,:,:]\n",
        "\n",
        "# It is good manners to close the file\n",
        "ds.close()\n",
        "\n",
        "print(\"Finished reading netcdf file.\")\n"
      ],
      "execution_count": null,
      "outputs": []
    },
    {
      "cell_type": "markdown",
      "metadata": {
        "id": "OrFpcqrwDvmj"
      },
      "source": [
        "# Check the data\n",
        "\n",
        "Convince yourself that the latitudes and longitudes were read in correctly. Print our their values to the screeed.\n",
        "(You could do this with temperature as well, but it wil be many many values).\n"
      ]
    },
    {
      "cell_type": "code",
      "metadata": {
        "id": "R5LTeNZ1EAAB"
      },
      "source": [
        "# Print the dimensions to the screen\n",
        "print(\"Number of longitudes: nlon=\", nlon)\n",
        "print(\"Number of latitudes : nlat=\", nlat)\n",
        "\n",
        "# Print the latitude and longitude \n",
        "print('LONGITUES:',lons)\n",
        "print('LATITUDES:',lats)\n",
        "\n",
        "print('You selected level k=',k,' which is',levs[k])\n",
        "\n"
      ],
      "execution_count": null,
      "outputs": []
    },
    {
      "cell_type": "markdown",
      "metadata": {
        "id": "8MtsO4t6yS4N"
      },
      "source": [
        "##Construct a map of temperature\n",
        "\n",
        "To convince yourself that the data is good, and get a view of the atmospheric conditions, construct a contour map of the data showing the temperature. We're using matplotlib to do the plotting. \n",
        "\n",
        "\n",
        "For geophysical data, we also need to set up a map projection. The easiest map projection is cylindrical equidistant: treating latitude and longitude as cartesian coordinates. This works find for many instances, but does not work well near the poles. \n",
        "\n",
        "As a bonus, you might try to overlay the wind data as vectors do visualize the airflow. Do do this you can use the quiver function.\n",
        "\n",
        "Also see documentation for matplotlib functions:\n",
        "* [contour](https://matplotlib.org/stable/api/_as_gen/matplotlib.pyplot.contour.html) \n",
        "* [contourf](https://matplotlib.org/stable/api/_as_gen/matplotlib.pyplot.contourf.html)\n",
        "*[quiver](https://matplotlib.org/stable/api/_as_gen/matplotlib.pyplot.quiver.html)\n",
        "* [colorbar](https://matplotlib.org/stable/api/_as_gen/matplotlib.pyplot.colorbar.html)\n",
        "\n",
        "A [good example](https://scitools.org.uk/cartopy/docs/v0.13/matplotlib/advanced_plotting.html) is on the cartopy documentation. You can limit the view with the \"extent\" keyword to give latitude and longitude bounds. Try limiting the map to just a local reagion.\n"
      ]
    },
    {
      "cell_type": "code",
      "metadata": {
        "id": "lZ86t6THEPwO"
      },
      "source": [
        "# Construct a map of the temperature data\n",
        "\n",
        "## Simpliest possible case\n",
        "p = plt.contourf(lons, lats, temp)\n",
        "\n",
        "## Or here, with a map projection\n",
        "#ax = plt.axes(projection=ccrs.PlateCarree())\n",
        "#p = plt.contourf(lons, lats, temp,60, transform=ccrs.PlateCarree())\n",
        "#ax.coastlines()\n",
        "\n",
        "\n",
        "## Try this to get vectors showing the streamlines\n",
        "#v = ax.quiver(lons, lats, uwnd, vwnd, transform=ccrs.PlateCarree())\n",
        "\n"
      ],
      "execution_count": null,
      "outputs": []
    },
    {
      "cell_type": "markdown",
      "metadata": {
        "id": "HuRfDb_65Z9k"
      },
      "source": [
        "##Outcome\n",
        "\n",
        "Being able to obtain gridded datasets, visualize fields and manipulate the data is a fundemental activity in geophsyical fluids analysis. Having completed this notebook task, you've developed some essential building blocks on which more complex analysis can rely. \n",
        "\n",
        "All the of the modules used here have greater power than what we've looked at more details can be found at:\n",
        "\n",
        "* [Numpy manual](https://numpy.org/doc/stable/user/)\n",
        "* [NetCDF4 documentation](https://unidata.github.io/netcdf4-python/ )\n",
        "* [Matplotlib](https://matplotlib.org/3.1.1/index.html)\n",
        "* [Cartopy manual](https://scitools.org.uk/cartopy/docs/latest/)\n",
        "\n",
        "There are many examples on these pages, which is an excellent resource for more complicated coding.\n",
        "\n",
        "\n"
      ]
    },
    {
      "cell_type": "code",
      "metadata": {
        "id": "KOx26sxlg2i3"
      },
      "source": [
        "# Clean up data file\n",
        "!rm ERA5_pr_2021-01-01.nc\n",
        "print('Finished')"
      ],
      "execution_count": null,
      "outputs": []
    }
  ]
}